{
 "cells": [
  {
   "cell_type": "code",
   "execution_count": 1,
   "metadata": {},
   "outputs": [],
   "source": [
    "import numpy as np\n",
    "import pandas as pd\n",
    "from urllib.request import urlopen\n",
    "from urllib import parse\n",
    "from urllib.request import Request\n",
    "from urllib.error import HTTPError\n",
    "from bs4 import BeautifulSoup\n",
    "import json"
   ]
  },
  {
   "cell_type": "code",
   "execution_count": 2,
   "metadata": {},
   "outputs": [],
   "source": [
    "# naver api\n",
    "client_id = \"\"   # 본인이 할당받은 ID 입력\n",
    "client_pw = \"\"   # 본인이 할당받은 Secret 입력\n",
    "\n",
    "api_url = \"https://naveropenapi.apigw.ntruss.com/map-reversegeocode/v2/gc?request=coordsToaddr&coords=\""
   ]
  },
  {
   "cell_type": "code",
   "execution_count": 4,
   "metadata": {},
   "outputs": [
    {
     "name": "stdout",
     "output_type": "stream",
     "text": [
      "경기도 용인시 처인구 이동읍 지장사\n"
     ]
    }
   ],
   "source": [
    "longitude = 127.161190\n",
    "latitude = 37.202630\n",
    "add_urlenc = str(longitude) + \",\" + str(latitude) + \"&orders=roadaddr&output=json\"\n",
    "url = api_url + add_urlenc\n",
    "request = Request(url)\n",
    "request.add_header(\"X-NCP-APIGW-API-KEY-ID\", client_id)\n",
    "request.add_header(\"X-NCP-APIGW-API-KEY\", client_pw)\n",
    "try:\n",
    "    response = urlopen(request)\n",
    "except HTTPError as e:\n",
    "    print(\"HTTP Error!\")\n",
    "else:\n",
    "    rescode = response.getcode()   # 정상이면 200 리턴\n",
    "    if rescode == 200:\n",
    "        response_body = response.read().decode(\"utf-8\")\n",
    "        response_body = json.loads(response_body)   # json\n",
    "        '''\n",
    "        if \"addresses\" in response_body:\n",
    "            latitude = response_body[\"addresses\"][0][\"y\"]\n",
    "            longitude = response_body[\"addresses\"][0][\"x\"]\n",
    "            print(\"Success!\")\n",
    "        else:\n",
    "            print(\"'result' not exist!\")\n",
    "            latitude = None\n",
    "            longitude = None\n",
    "        '''\n",
    "    else:\n",
    "        print(\"Response error code : %d\" % rescode)\n",
    "        \n",
    "a1 = response_body['results'][0]['region']['area1']['name']\n",
    "a2 = response_body['results'][0]['region']['area2']['name']\n",
    "a3 = response_body['results'][0]['region']['area3']['name']\n",
    "a4 = response_body['results'][0]['land']['addition0']['value']\n",
    "\n",
    "result = a1 + \" \" + a2 + \" \" + a3 + \" \" + a4\n",
    "\n",
    "print(result)"
   ]
  },
  {
   "cell_type": "code",
   "execution_count": 7,
   "metadata": {},
   "outputs": [],
   "source": [
    "f=open(\"C:/Users/배인석/Desktop/naver_map_result.txt\", 'w')\n",
    "f.write(result)\n",
    "f.close()"
   ]
  }
 ],
 "metadata": {
  "kernelspec": {
   "display_name": "Python 3",
   "language": "python",
   "name": "python3"
  },
  "language_info": {
   "codemirror_mode": {
    "name": "ipython",
    "version": 3
   },
   "file_extension": ".py",
   "mimetype": "text/x-python",
   "name": "python",
   "nbconvert_exporter": "python",
   "pygments_lexer": "ipython3",
   "version": "3.7.3"
  }
 },
 "nbformat": 4,
 "nbformat_minor": 2
}
