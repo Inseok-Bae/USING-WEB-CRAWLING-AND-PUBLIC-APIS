{
 "cells": [
  {
   "cell_type": "code",
   "execution_count": 6,
   "metadata": {},
   "outputs": [],
   "source": [
    "def Search(keyword):\n",
    "    \n",
    "    result = api.GetSearch(raw_query=\"q=\"+keyword, return_json=True)\n",
    "    \n",
    "    Search_result = {}\n",
    "    \n",
    "    check = []\n",
    "    \n",
    "    for i in range(len(result['statuses'])):\n",
    "        temp = (\"Time: \" + result['statuses'][i]['created_at'] + \" Text: \" + result['statuses'][i]['text'])\n",
    "        temp = temp.replace('\\n', ' ')\n",
    "        id = result['statuses'][i]['id']\n",
    "        \n",
    "        if (result['statuses'][i]['text'] in check):\n",
    "            continue\n",
    "        else:\n",
    "            Search_result[id] = temp\n",
    "        \n",
    "        check.append(result['statuses'][i]['text'])\n",
    "\n",
    "    return(Search_result)"
   ]
  },
  {
   "cell_type": "code",
   "execution_count": 2,
   "metadata": {},
   "outputs": [],
   "source": [
    "def get_time_interval(new, old):\n",
    "    \n",
    "    new_hour = int(new[17:19])\n",
    "    new_minute = int(new[20:22])\n",
    "    new_second = int(new[23:25])\n",
    "    \n",
    "    new_time = new_hour*60*60 + new_minute*60 + new_second\n",
    "    \n",
    "    old_hour = int(old[17:19])\n",
    "    old_minute = int(old[20:22])\n",
    "    old_second = int(old[23:25])\n",
    "    \n",
    "    old_time = old_hour*60*60 + old_minute*60 + old_second\n",
    "    \n",
    "    if new_time >= old_time:\n",
    "        interval = new_time - old_time\n",
    "    else:\n",
    "        interval = new_time + (24*60*60 - old_time)\n",
    "        \n",
    "    return(interval)"
   ]
  },
  {
   "cell_type": "code",
   "execution_count": 3,
   "metadata": {},
   "outputs": [],
   "source": [
    "def cal_ewma(Search_result, ewma):\n",
    "    for i in range(len(Search_result)-1, 0, -1):\n",
    "        ewma = (ewma*0.8) + (get_time_interval(Search_result[i-1], Search_result[i])*0.2)\n",
    "    return(ewma)"
   ]
  },
  {
   "cell_type": "code",
   "execution_count": null,
   "metadata": {},
   "outputs": [
    {
     "name": "stdout",
     "output_type": "stream",
     "text": [
      "time!\n",
      "\n",
      "time!\n",
      "\n",
      "time!\n",
      "\n",
      "time!\n",
      "\n",
      "time!\n",
      "\n",
      "time!\n",
      "\n",
      "time!\n",
      "\n",
      "time!\n",
      "\n",
      "time!\n",
      "\n",
      "time!\n",
      "\n",
      "time!\n",
      "\n",
      "time!\n",
      "\n",
      "time!\n",
      "\n",
      "time!\n",
      "\n",
      "time!\n",
      "\n",
      "time!\n",
      "\n",
      "time!\n",
      "\n",
      "time!\n",
      "\n",
      "time!\n",
      "\n",
      "time!\n",
      "\n",
      "time!\n",
      "\n",
      "time!\n",
      "\n",
      "time!\n",
      "\n",
      "time!\n",
      "\n",
      "time!\n",
      "\n",
      "time!\n",
      "\n",
      "time!\n",
      "\n",
      "time!\n",
      "\n",
      "time!\n",
      "\n",
      "time!\n",
      "\n",
      "time!\n",
      "\n",
      "time!\n",
      "\n",
      "time!\n",
      "\n",
      "time!\n",
      "\n",
      "time!\n",
      "\n",
      "time!\n",
      "\n",
      "time!\n",
      "\n",
      "time!\n",
      "\n",
      "time!\n",
      "\n",
      "time!\n",
      "\n",
      "time!\n",
      "\n",
      "time!\n",
      "\n",
      "time!\n",
      "\n",
      "time!\n",
      "\n",
      "time!\n",
      "\n"
     ]
    }
   ],
   "source": [
    "import twitter\n",
    "from datetime import datetime \n",
    "\n",
    "api = twitter.Api(consumer_key='',\n",
    "                      consumer_secret='',\n",
    "                      access_token_key='',\n",
    "                      access_token_secret='')\n",
    "\n",
    "keyword = \"최저임금\"\n",
    "\n",
    "check_set = []\n",
    "ewma = 0\n",
    "target_time = 36400\n",
    "\n",
    "while True:\n",
    "\n",
    "    now = datetime.now()\n",
    "    now_time = now.hour*60*60 + now.minute*60 + now.second\n",
    "    \n",
    "    if(now.hour % 14400 == 0):\n",
    "        check_set = []\n",
    "        \n",
    "    if (now_time > target_time):\n",
    "        target_time = (now_time + 10) % (24*60*60)\n",
    "         \n",
    "    \n",
    "    if (now_time == target_time):\n",
    "        \n",
    "        print(\"time!\\n\")\n",
    "        \n",
    "        Search_result = Search(keyword)\n",
    "        write_set = []\n",
    "        \n",
    "        for tweet_id in check_set:\n",
    "            if tweet_id in Search_result:\n",
    "                del Search_result[tweet_id]\n",
    "        \n",
    "        for tweet in Search_result:\n",
    "            check_set.append(tweet)\n",
    "            write_set.append(Search_result[tweet])\n",
    "        \n",
    "        ewma = cal_ewma(list(Search_result.values()), ewma)\n",
    "        ewma = round(ewma)\n",
    "        mul = round(len(Search_result))\n",
    "\n",
    "        if(now_time + ewma > 24*60*60):\n",
    "            target_time = (now_time + ewma) - 24*60*60\n",
    "        else:\n",
    "            target_time = now_time + ewma*mul\n",
    "        \n",
    "        f=open(\"C:/Users/배인석/Desktop/twitter.txt\", 'a')\n",
    "        \n",
    "        for tweet in write_set:\n",
    "            try:\n",
    "                f.write(tweet + '\\n')\n",
    "            except:\n",
    "                pass\n",
    "            \n",
    "        f.close()\n"
   ]
  },
  {
   "cell_type": "code",
   "execution_count": 4,
   "metadata": {},
   "outputs": [
    {
     "name": "stdout",
     "output_type": "stream",
     "text": [
      "53428\n"
     ]
    }
   ],
   "source": [
    "from datetime import datetime \n",
    "\n",
    "now = datetime.now()\n",
    "now_time = now.hour*60*60 + now.minute*60 + now.second\n",
    "print(now_time)"
   ]
  },
  {
   "cell_type": "code",
   "execution_count": 111,
   "metadata": {},
   "outputs": [
    {
     "data": {
      "text/plain": [
       "14400"
      ]
     },
     "execution_count": 111,
     "metadata": {},
     "output_type": "execute_result"
    }
   ],
   "source": [
    "4*60*60"
   ]
  },
  {
   "cell_type": "code",
   "execution_count": 84,
   "metadata": {},
   "outputs": [
    {
     "name": "stdout",
     "output_type": "stream",
     "text": [
      "['Time: Fri Dec 06 11:21:59 +0000 2019 Text: 사실상 사무실에 출퇴근하고 업무지시를 받으면서(소위 상주 프리랜서) 프리랜서 계약을 맺어 근로자로서의 권리(최저임금 보장, 실업급여, 퇴직금)를 보장받지 못한 분들을 찾습니다. ▶︎ 모집 기간 : 2019년… https://t.co/lrU1ZNyqJJ', 'Time: Fri Dec 06 11:20:10 +0000 2019 Text: RT @windskyrun: 너희는이래서 안돼. 뭘 근거로 대한민국은 좀 더 일을 해야 한다고 말하나. 네놈 이무슨 일을 해봤냐고....  이따위 것들은 탁상공론적 의식을 가진 대표적인 반동분자임.  노동자들은 나날이 힘겹게 일만 하다 죽는 날 다가…', 'Time: Fri Dec 06 11:19:38 +0000 2019 Text: 이 나라는 최저임금을 2년 사이에 30% 가까이 올리는 바람에 중소기업들은 해외로 자영자들은 노임을 감당 못해 줄폐업이나 울상!! https://t.co/FZyVoDJNeC', 'Time: Fri Dec 06 11:16:27 +0000 2019 Text: 당신 자식이, 당신 가족이 최저임금때문에 먹고살기위해 장시간 노동하다 과로사해도 그런말 할수 있나? https://t.co/jD3d5NloK2', 'Time: Fri Dec 06 11:13:36 +0000 2019 Text: RT @8tvmMsF9wJ7uKpM: 황교안의 주52시간. \"먹고살기위한 일 막아버렸다.\" ? 그러면서 최저임금도 반대 ? 본질은. 대기업은\\xa0상당\\xa0기간\\xa0준비 충격크지않을것. 반면  중소기업은 52시간\\xa0근로제\\xa0도입\\xa0후기존\\xa0생산량\\xa0유지\\xa0위한\\xa0추가\\xa0부담\\xa0…', 'Time: Fri Dec 06 11:12:52 +0000 2019 Text: 최저임금때문이라며?', 'Time: Fri Dec 06 11:10:05 +0000 2019 Text: RT @transmemes_KR: 내 최저임금으로 몇 시간을 일해야 수술할 수 있는지 계산하는 내 모습 https://t.co/dUONGHFAZT', 'Time: Fri Dec 06 11:09:40 +0000 2019 Text: RT @lusci82: 자영업자가 힘든게 과연 최저임금 때문이었던가? 젊은이가 돈이 없는게 과연 52시간 제한 때문일까?  이명박근혜 정부 내내 대출까지 확대하며 부동산 띄우기에만 골몰한 결과, 임대료와 집값은 끝없이 올라갔다.  애 키우려면 내 집…', 'Time: Fri Dec 06 11:09:36 +0000 2019 Text: 너희는이래서 안돼. 뭘 근거로 대한민국은 좀 더 일을 해야 한다고 말하나. 네놈 이무슨 일을 해봤냐고....  이따위 것들은 탁상공론적 의식을 가진 대표적인 반동분자임.  노동자들은 나날이 힘겹게 일만 하다… https://t.co/wGaLyOXpJc', 'Time: Fri Dec 06 11:06:16 +0000 2019 Text: RT @lusci82: 자영업자가 힘든게 과연 최저임금 때문이었던가? 젊은이가 돈이 없는게 과연 52시간 제한 때문일까?  이명박근혜 정부 내내 대출까지 확대하며 부동산 띄우기에만 골몰한 결과, 임대료와 집값은 끝없이 올라갔다.  애 키우려면 내 집…', 'Time: Fri Dec 06 11:04:33 +0000 2019 Text: @Wings_Dhj 주 100시간 일하고 최저임금 받으면 좋겠어요 그 분(풉🤭', 'Time: Fri Dec 06 11:02:45 +0000 2019 Text: RT @transmemes_KR: 내 최저임금으로 몇 시간을 일해야 수술할 수 있는지 계산하는 내 모습 https://t.co/dUONGHFAZT', 'Time: Fri Dec 06 10:59:57 +0000 2019 Text: 많이 안타깝다.   개인적으로 좋아하던 집이라 친구 &amp; 후배들과 자주 찾던 곳인데..   팀 회식도 했었고...   탐라에 돈 좀 만진다는 애들아~   최저임금 때문에 망한거 아니냐고 되물어야지???   홍… https://t.co/jLN6ugI81O', 'Time: Fri Dec 06 10:56:49 +0000 2019 Text: 황교안의 주52시간. \"먹고살기위한 일 막아버렸다.\" ? 그러면서 최저임금도 반대 ? 본질은. 대기업은\\xa0상당\\xa0기간\\xa0준비 충격크지않을것. 반면  중소기업은 52시간\\xa0근로제\\xa0도입\\xa0후기존\\xa0생산량\\xa0유지\\xa0위한\\xa0추가\\xa0… https://t.co/rR6S0fQJH1', 'Time: Fri Dec 06 10:54:32 +0000 2019 Text: RT @Yeonnam_Salon: 사장님들.. 두루누리 지원, 일자리 안정자금 잘 알아보고 꼭 받으시는데, 보수총액 신고를 안하면 안됩니다. 게다가 일년에 한 번 “최저임금 지키고 있습니까?-예”라는 한마디의 서류를 작성해서 직접/팩스로 제출하지 않…']\n"
     ]
    }
   ],
   "source": [
    "print(list(Search_result.values()))"
   ]
  }
 ],
 "metadata": {
  "kernelspec": {
   "display_name": "Python 3",
   "language": "python",
   "name": "python3"
  },
  "language_info": {
   "codemirror_mode": {
    "name": "ipython",
    "version": 3
   },
   "file_extension": ".py",
   "mimetype": "text/x-python",
   "name": "python",
   "nbconvert_exporter": "python",
   "pygments_lexer": "ipython3",
   "version": "3.7.3"
  }
 },
 "nbformat": 4,
 "nbformat_minor": 2
}
