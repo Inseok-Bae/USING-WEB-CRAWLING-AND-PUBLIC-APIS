{
 "cells": [
  {
   "cell_type": "code",
   "execution_count": 9,
   "metadata": {},
   "outputs": [],
   "source": [
    "import urllib.request\n",
    "from json2html import json2html\n",
    "\n",
    "url = \"http://kosis.kr/openapi/statisticsData.do?method=getList&apiKey=''=&format=json&jsonVD=Y&userStatsId=''/118/DT_11840_N008/2/1/20191207200450&prdSe=Y&newEstPrdCnt=1\"\n",
    "\n",
    "request = urllib.request.Request(url)\n",
    "\n",
    "try:\n",
    "    response = urllib.request.urlopen(request, timeout = 30)\n",
    "except Exception as e:\n",
    "    print('bad request : ', e)\n",
    "    \n",
    "response_body = response.read()\n",
    "resp = response_body.decode('utf-8')\n",
    "\n",
    "f=open(\"C:/Users/배인석/Desktop/Kosis_result_적용되는 최저임금 인상액의 적정성(사업체규모별).txt\", 'w')\n",
    "f.write(resp)\n",
    "f.close()\n",
    "\n",
    "file = json2html.convert(json = resp)\n",
    "\n",
    "f=open(\"C:/Users/배인석/Desktop/Kosis_result_적용되는 최저임금 인상액의 적정성(사업체규모별).html\", 'w')\n",
    "f.write(file)\n",
    "f.close()"
   ]
  }
 ],
 "metadata": {
  "kernelspec": {
   "display_name": "Python 3",
   "language": "python",
   "name": "python3"
  },
  "language_info": {
   "codemirror_mode": {
    "name": "ipython",
    "version": 3
   },
   "file_extension": ".py",
   "mimetype": "text/x-python",
   "name": "python",
   "nbconvert_exporter": "python",
   "pygments_lexer": "ipython3",
   "version": "3.7.3"
  }
 },
 "nbformat": 4,
 "nbformat_minor": 2
}
